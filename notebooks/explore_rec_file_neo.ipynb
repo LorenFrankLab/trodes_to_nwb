{
 "cells": [
  {
   "cell_type": "code",
   "execution_count": 37,
   "id": "89040057-deb0-4f2b-a4c0-34b0b0288cc3",
   "metadata": {},
   "outputs": [],
   "source": [
    "from neo.rawio import SpikeGadgetsRawIO"
   ]
  },
  {
   "cell_type": "code",
   "execution_count": 38,
   "id": "ecc22cb2-f534-4a52-879d-394a96f19785",
   "metadata": {},
   "outputs": [],
   "source": [
    "rec_file_path = \"/Users/rly/Downloads/20230622_155936/20230622_155936.rec\""
   ]
  },
  {
   "cell_type": "code",
   "execution_count": 39,
   "id": "75f5fe65-b30d-43c0-ac5a-90babe9913a3",
   "metadata": {},
   "outputs": [],
   "source": [
    "neo_io = SpikeGadgetsRawIO(filename=rec_file_path)  # all streams"
   ]
  },
  {
   "cell_type": "code",
   "execution_count": 67,
   "id": "9b9efb02-aa5b-4b6a-afe7-223471d354c4",
   "metadata": {},
   "outputs": [],
   "source": [
    "neo_io.parse_header()\n",
    "header = neo_io.header"
   ]
  },
  {
   "cell_type": "code",
   "execution_count": 41,
   "id": "13347ab0-a352-481e-bdfe-4486e4e94d9c",
   "metadata": {},
   "outputs": [],
   "source": [
    "from xml.etree import ElementTree\n",
    "\n",
    "# parse file until \"</Configuration>\"\n",
    "header_size = None\n",
    "with open(rec_file_path, mode='rb') as f:\n",
    "    while True:\n",
    "        line = f.readline()\n",
    "        if b\"</Configuration>\" in line:\n",
    "            header_size = f.tell()\n",
    "            break\n",
    "\n",
    "    if header_size is None:\n",
    "        ValueError(\"SpikeGadgets: the xml header does not contain '</Configuration>'\")\n",
    "\n",
    "    f.seek(0)\n",
    "    header_txt = f.read(header_size).decode('utf8')\n",
    "\n",
    "# explore xml header\n",
    "root = ElementTree.fromstring(header_txt)\n",
    "gconf = sr = root.find('GlobalConfiguration')\n",
    "hconf = root.find('HardwareConfiguration')\n",
    "sconf = root.find('SpikeConfiguration')\n",
    "\n",
    "_sampling_rate = float(hconf.attrib['samplingRate'])\n",
    "num_ephy_channels = int(hconf.attrib['numChannels'])"
   ]
  },
  {
   "cell_type": "code",
   "execution_count": 42,
   "id": "4bc4b324-8a11-4b9d-8b74-884c728f6fe3",
   "metadata": {},
   "outputs": [
    {
     "name": "stdout",
     "output_type": "stream",
     "text": [
      "There are 4 devices.\n"
     ]
    }
   ],
   "source": [
    "print(f'There are {len(hconf)} devices.')"
   ]
  },
  {
   "cell_type": "code",
   "execution_count": 43,
   "id": "b6ac41bd-690a-4303-bfed-f5478b27e2ff",
   "metadata": {},
   "outputs": [
    {
     "name": "stdout",
     "output_type": "stream",
     "text": [
      "Device 'Controller_DIO' starts at byte index 1 and has 1 bytes.\n",
      "Device 'ECU' starts at byte index 2 and has 32 bytes.\n",
      "Device 'Multiplexed' starts at byte index 34 and has 8 bytes.\n",
      "Device 'SysClock' starts at byte index 42 and has 8 bytes.\n",
      "50\n",
      "{'Controller_DIO': 1, 'ECU': 2, 'Multiplexed': 34, 'SysClock': 42}\n"
     ]
    }
   ],
   "source": [
    "# explore sub stream and count packet size\n",
    "\n",
    "# The raw data block consists of N packets.\n",
    "# Each packet consists of:\n",
    "# First byte is 0x55\n",
    "# Some number of bytes for each device (e.g., Controller_DIO has 1 byte,\n",
    "# ECU has 32 bytes, Multiplexed has 8 bytes, SysClock has 8 bytes)\n",
    "# Timestamp (uint32) which has 4 bytes\n",
    "# Ephys data (int16) which has 2 * num_ephy_channels bytes\n",
    "\n",
    "# first byte is 0x55\n",
    "packet_size = 1\n",
    "\n",
    "# save the number of bytes for each device and update packet_size\n",
    "stream_bytes = {}\n",
    "for device in hconf:\n",
    "    stream_id = device.attrib['name']\n",
    "    num_bytes = int(device.attrib['numBytes'])\n",
    "    stream_bytes[stream_id] = packet_size\n",
    "    packet_size += num_bytes\n",
    "    print(f\"Device '{stream_id}' starts at byte index {stream_bytes[stream_id]} and has {num_bytes} bytes.\")\n",
    "print(packet_size)\n",
    "print(stream_bytes)  # this is the byte index for each stream"
   ]
  },
  {
   "cell_type": "code",
   "execution_count": 44,
   "id": "483a4399-2f3f-43c8-8888-0273f04c4217",
   "metadata": {},
   "outputs": [
    {
     "name": "stdout",
     "output_type": "stream",
     "text": [
      "The timestamp (uint32) starts at byte 50 and has 4 bytes.\n",
      "The ephys data (int16) starts at byte 54 and has 256 bytes (2 bytes for each of the 128 channels).\n",
      "The total packet size is 310 bytes.\n"
     ]
    }
   ],
   "source": [
    "# timestamps 4 uint32\n",
    "_timestamp_byte = packet_size  # store the current packet size as the index of the timestamp byte\n",
    "packet_size += 4  # the timestamp is uint32, which is 4 bytes\n",
    "print(f\"The timestamp (uint32) starts at byte {_timestamp_byte} and has 4 bytes.\")\n",
    "print(f\"The ephys data (int16) starts at byte {packet_size} and has {2 * num_ephy_channels} bytes (2 bytes for each of the {num_ephy_channels} channels).\")\n",
    "\n",
    "packet_size += 2 * num_ephy_channels\n",
    "print(f\"The total packet size is {packet_size} bytes.\")"
   ]
  },
  {
   "cell_type": "code",
   "execution_count": 45,
   "id": "1f245195-a339-49d5-838d-60ccb34cae9d",
   "metadata": {},
   "outputs": [
    {
     "name": "stdout",
     "output_type": "stream",
     "text": [
      "(314266, 310)\n"
     ]
    }
   ],
   "source": [
    "# read the binary part lazily\n",
    "import numpy as np\n",
    "\n",
    "raw_memmap = np.memmap(rec_file_path, mode='r', offset=header_size, dtype='<u1')\n",
    "\n",
    "num_packet = raw_memmap.size // packet_size\n",
    "raw_memmap = raw_memmap[:num_packet * packet_size]\n",
    "_raw_memmap = raw_memmap.reshape(-1, packet_size)  # reshape to (num_packets, packet_size)\n",
    "print(_raw_memmap.shape)"
   ]
  },
  {
   "cell_type": "code",
   "execution_count": 46,
   "id": "74d0c54a-e4d6-4bf5-b72f-ead8c6f47cf7",
   "metadata": {},
   "outputs": [],
   "source": [
    "# create signal channels\n",
    "stream_ids = []\n",
    "signal_streams = []\n",
    "signal_channels = []"
   ]
  },
  {
   "cell_type": "code",
   "execution_count": 21,
   "id": "a4f9029c-2a8a-44f5-ace4-04862db1bc1c",
   "metadata": {},
   "outputs": [
    {
     "name": "stdout",
     "output_type": "stream",
     "text": [
      "Controller_DIO\n",
      "{'dataType': 'digital', 'bit': '0', 'startByte': '0', 'id': 'Controller_Din1', 'input': '1'}\n",
      "{'dataType': 'digital', 'bit': '1', 'startByte': '0', 'id': 'Controller_Din2', 'input': '1'}\n",
      "{'dataType': 'digital', 'bit': '2', 'startByte': '0', 'id': 'Controller_Din3', 'input': '1'}\n",
      "{'dataType': 'digital', 'bit': '3', 'startByte': '0', 'id': 'Controller_Din4', 'input': '1'}\n",
      "{'dataType': 'digital', 'bit': '4', 'startByte': '0', 'id': 'Controller_Din5', 'input': '1'}\n",
      "{'dataType': 'digital', 'bit': '5', 'startByte': '0', 'id': 'Controller_Din6', 'input': '1'}\n",
      "{'dataType': 'digital', 'bit': '6', 'startByte': '0', 'id': 'Controller_Din7', 'input': '1'}\n",
      "{'dataType': 'digital', 'bit': '7', 'startByte': '0', 'id': 'Controller_Din8', 'input': '1'}\n",
      "ECU\n",
      "{'dataType': 'digital', 'bit': '0', 'startByte': '0', 'id': 'ECU_Din1', 'input': '1'}\n",
      "{'dataType': 'digital', 'bit': '1', 'startByte': '0', 'id': 'ECU_Din2', 'input': '1'}\n",
      "{'dataType': 'digital', 'bit': '2', 'startByte': '0', 'id': 'ECU_Din3', 'input': '1'}\n",
      "{'dataType': 'digital', 'bit': '3', 'startByte': '0', 'id': 'ECU_Din4', 'input': '1'}\n",
      "{'dataType': 'digital', 'bit': '4', 'startByte': '0', 'id': 'ECU_Din5', 'input': '1'}\n",
      "{'dataType': 'digital', 'bit': '5', 'startByte': '0', 'id': 'ECU_Din6', 'input': '1'}\n",
      "{'dataType': 'digital', 'bit': '6', 'startByte': '0', 'id': 'ECU_Din7', 'input': '1'}\n",
      "{'dataType': 'digital', 'bit': '7', 'startByte': '0', 'id': 'ECU_Din8', 'input': '1'}\n",
      "{'dataType': 'digital', 'bit': '0', 'startByte': '1', 'id': 'ECU_Din9', 'input': '1'}\n",
      "{'dataType': 'digital', 'bit': '1', 'startByte': '1', 'id': 'ECU_Din10', 'input': '1'}\n",
      "{'dataType': 'digital', 'bit': '2', 'startByte': '1', 'id': 'ECU_Din11', 'input': '1'}\n",
      "{'dataType': 'digital', 'bit': '3', 'startByte': '1', 'id': 'ECU_Din12', 'input': '1'}\n",
      "{'dataType': 'digital', 'bit': '4', 'startByte': '1', 'id': 'ECU_Din13', 'input': '1'}\n",
      "{'dataType': 'digital', 'bit': '5', 'startByte': '1', 'id': 'ECU_Din14', 'input': '1'}\n",
      "{'dataType': 'digital', 'bit': '6', 'startByte': '1', 'id': 'ECU_Din15', 'input': '1'}\n",
      "{'dataType': 'digital', 'bit': '7', 'startByte': '1', 'id': 'ECU_Din16', 'input': '1'}\n",
      "{'dataType': 'digital', 'bit': '0', 'startByte': '2', 'id': 'ECU_Din17', 'input': '1'}\n",
      "{'dataType': 'digital', 'bit': '1', 'startByte': '2', 'id': 'ECU_Din18', 'input': '1'}\n",
      "{'dataType': 'digital', 'bit': '2', 'startByte': '2', 'id': 'ECU_Din19', 'input': '1'}\n",
      "{'dataType': 'digital', 'bit': '3', 'startByte': '2', 'id': 'ECU_Din20', 'input': '1'}\n",
      "{'dataType': 'digital', 'bit': '4', 'startByte': '2', 'id': 'ECU_Din21', 'input': '1'}\n",
      "{'dataType': 'digital', 'bit': '5', 'startByte': '2', 'id': 'ECU_Din22', 'input': '1'}\n",
      "{'dataType': 'digital', 'bit': '6', 'startByte': '2', 'id': 'ECU_Din23', 'input': '1'}\n",
      "{'dataType': 'digital', 'bit': '7', 'startByte': '2', 'id': 'ECU_Din24', 'input': '1'}\n",
      "{'dataType': 'digital', 'bit': '0', 'startByte': '3', 'id': 'ECU_Din25', 'input': '1'}\n",
      "{'dataType': 'digital', 'bit': '1', 'startByte': '3', 'id': 'ECU_Din26', 'input': '1'}\n",
      "{'dataType': 'digital', 'bit': '2', 'startByte': '3', 'id': 'ECU_Din27', 'input': '1'}\n",
      "{'dataType': 'digital', 'bit': '3', 'startByte': '3', 'id': 'ECU_Din28', 'input': '1'}\n",
      "{'dataType': 'digital', 'bit': '4', 'startByte': '3', 'id': 'ECU_Din29', 'input': '1'}\n",
      "{'dataType': 'digital', 'bit': '5', 'startByte': '3', 'id': 'ECU_Din30', 'input': '1'}\n",
      "{'dataType': 'digital', 'bit': '6', 'startByte': '3', 'id': 'ECU_Din31', 'input': '1'}\n",
      "{'dataType': 'digital', 'bit': '7', 'startByte': '3', 'id': 'ECU_Din32', 'input': '1'}\n",
      "{'dataType': 'digital', 'bit': '0', 'startByte': '4', 'id': 'ECU_Dout1', 'input': '0'}\n",
      "{'dataType': 'digital', 'bit': '1', 'startByte': '4', 'id': 'ECU_Dout2', 'input': '0'}\n",
      "{'dataType': 'digital', 'bit': '2', 'startByte': '4', 'id': 'ECU_Dout3', 'input': '0'}\n",
      "{'dataType': 'digital', 'bit': '3', 'startByte': '4', 'id': 'ECU_Dout4', 'input': '0'}\n",
      "{'dataType': 'digital', 'bit': '4', 'startByte': '4', 'id': 'ECU_Dout5', 'input': '0'}\n",
      "{'dataType': 'digital', 'bit': '5', 'startByte': '4', 'id': 'ECU_Dout6', 'input': '0'}\n",
      "{'dataType': 'digital', 'bit': '6', 'startByte': '4', 'id': 'ECU_Dout7', 'input': '0'}\n",
      "{'dataType': 'digital', 'bit': '7', 'startByte': '4', 'id': 'ECU_Dout8', 'input': '0'}\n",
      "{'dataType': 'digital', 'bit': '0', 'startByte': '5', 'id': 'ECU_Dout9', 'input': '0'}\n",
      "{'dataType': 'digital', 'bit': '1', 'startByte': '5', 'id': 'ECU_Dout10', 'input': '0'}\n",
      "{'dataType': 'digital', 'bit': '2', 'startByte': '5', 'id': 'ECU_Dout11', 'input': '0'}\n",
      "{'dataType': 'digital', 'bit': '3', 'startByte': '5', 'id': 'ECU_Dout12', 'input': '0'}\n",
      "{'dataType': 'digital', 'bit': '4', 'startByte': '5', 'id': 'ECU_Dout13', 'input': '0'}\n",
      "{'dataType': 'digital', 'bit': '5', 'startByte': '5', 'id': 'ECU_Dout14', 'input': '0'}\n",
      "{'dataType': 'digital', 'bit': '6', 'startByte': '5', 'id': 'ECU_Dout15', 'input': '0'}\n",
      "{'dataType': 'digital', 'bit': '7', 'startByte': '5', 'id': 'ECU_Dout16', 'input': '0'}\n",
      "{'dataType': 'digital', 'bit': '0', 'startByte': '6', 'id': 'ECU_Dout17', 'input': '0'}\n",
      "{'dataType': 'digital', 'bit': '1', 'startByte': '6', 'id': 'ECU_Dout18', 'input': '0'}\n",
      "{'dataType': 'digital', 'bit': '2', 'startByte': '6', 'id': 'ECU_Dout19', 'input': '0'}\n",
      "{'dataType': 'digital', 'bit': '3', 'startByte': '6', 'id': 'ECU_Dout20', 'input': '0'}\n",
      "{'dataType': 'digital', 'bit': '4', 'startByte': '6', 'id': 'ECU_Dout21', 'input': '0'}\n",
      "{'dataType': 'digital', 'bit': '5', 'startByte': '6', 'id': 'ECU_Dout22', 'input': '0'}\n",
      "{'dataType': 'digital', 'bit': '6', 'startByte': '6', 'id': 'ECU_Dout23', 'input': '0'}\n",
      "{'dataType': 'digital', 'bit': '7', 'startByte': '6', 'id': 'ECU_Dout24', 'input': '0'}\n",
      "{'dataType': 'digital', 'bit': '0', 'startByte': '6', 'id': 'ECU_Dout25', 'input': '0'}\n",
      "{'dataType': 'digital', 'bit': '1', 'startByte': '7', 'id': 'ECU_Dout26', 'input': '0'}\n",
      "{'dataType': 'digital', 'bit': '2', 'startByte': '7', 'id': 'ECU_Dout27', 'input': '0'}\n",
      "{'dataType': 'digital', 'bit': '3', 'startByte': '7', 'id': 'ECU_Dout28', 'input': '0'}\n",
      "{'dataType': 'digital', 'bit': '4', 'startByte': '7', 'id': 'ECU_Dout29', 'input': '0'}\n",
      "{'dataType': 'digital', 'bit': '5', 'startByte': '7', 'id': 'ECU_Dout30', 'input': '0'}\n",
      "{'dataType': 'digital', 'bit': '6', 'startByte': '7', 'id': 'ECU_Dout31', 'input': '0'}\n",
      "{'dataType': 'digital', 'bit': '7', 'startByte': '7', 'id': 'ECU_Dout32', 'input': '0'}\n",
      "{'dataType': 'analog', 'bit': '0', 'startByte': '8', 'id': 'ECU_Ain1', 'input': '1'}\n",
      "{'dataType': 'analog', 'bit': '0', 'startByte': '10', 'id': 'ECU_Ain2', 'input': '1'}\n",
      "{'dataType': 'analog', 'bit': '0', 'startByte': '12', 'id': 'ECU_Ain3', 'input': '1'}\n",
      "{'dataType': 'analog', 'bit': '0', 'startByte': '14', 'id': 'ECU_Ain4', 'input': '1'}\n",
      "{'dataType': 'analog', 'bit': '0', 'startByte': '16', 'id': 'ECU_Ain5', 'input': '1'}\n",
      "{'dataType': 'analog', 'bit': '0', 'startByte': '18', 'id': 'ECU_Ain6', 'input': '1'}\n",
      "{'dataType': 'analog', 'bit': '0', 'startByte': '20', 'id': 'ECU_Ain7', 'input': '1'}\n",
      "{'dataType': 'analog', 'bit': '0', 'startByte': '22', 'id': 'ECU_Ain8', 'input': '1'}\n",
      "{'dataType': 'analog', 'bit': '0', 'startByte': '24', 'id': 'ECU_Aout1', 'input': '1'}\n",
      "{'dataType': 'analog', 'bit': '0', 'startByte': '26', 'id': 'ECU_Aout2', 'input': '1'}\n",
      "{'dataType': 'analog', 'bit': '0', 'startByte': '28', 'id': 'ECU_Aout3', 'input': '1'}\n",
      "{'dataType': 'analog', 'bit': '0', 'startByte': '30', 'id': 'ECU_Aout4', 'input': '1'}\n",
      "Multiplexed\n",
      "{'dataType': 'analog', 'bit': '0', 'interleavedDataIDByte': '0', 'startByte': '2', 'id': 'Headstage_AccelX', 'interleavedDataIDBit': '3', 'input': '1'}\n",
      "{'dataType': 'analog', 'bit': '0', 'interleavedDataIDByte': '0', 'startByte': '4', 'id': 'Headstage_AccelY', 'interleavedDataIDBit': '3', 'input': '1'}\n",
      "{'dataType': 'analog', 'bit': '0', 'interleavedDataIDByte': '0', 'startByte': '6', 'id': 'Headstage_AccelZ', 'interleavedDataIDBit': '3', 'input': '1'}\n",
      "{'dataType': 'analog', 'bit': '0', 'interleavedDataIDByte': '0', 'startByte': '2', 'id': 'Headstage_GyroX', 'interleavedDataIDBit': '2', 'input': '1'}\n",
      "{'dataType': 'analog', 'bit': '0', 'interleavedDataIDByte': '0', 'startByte': '4', 'id': 'Headstage_GyroY', 'interleavedDataIDBit': '2', 'input': '1'}\n",
      "{'dataType': 'analog', 'bit': '0', 'interleavedDataIDByte': '0', 'startByte': '6', 'id': 'Headstage_GyroZ', 'interleavedDataIDBit': '2', 'input': '1'}\n",
      "{'dataType': 'analog', 'bit': '0', 'interleavedDataIDByte': '0', 'startByte': '2', 'id': 'Headstage_MagX', 'interleavedDataIDBit': '1', 'input': '1'}\n",
      "{'dataType': 'analog', 'bit': '0', 'interleavedDataIDByte': '0', 'startByte': '4', 'id': 'Headstage_MagY', 'interleavedDataIDBit': '1', 'input': '1'}\n",
      "{'dataType': 'analog', 'bit': '0', 'interleavedDataIDByte': '0', 'startByte': '6', 'id': 'Headstage_MagZ', 'interleavedDataIDBit': '1', 'input': '1'}\n",
      "{'dataType': 'uint32', 'bit': '0', 'interleavedDataIDByte': '0', 'startByte': '2', 'id': 'RFsync', 'interleavedDataIDBit': '0', 'input': '1'}\n",
      "{'dataType': 'uint32', 'bit': '0', 'interleavedDataIDByte': '0', 'startByte': '2', 'id': 'Headstage_Ack1', 'interleavedDataIDBit': '4', 'input': '1'}\n",
      "{'dataType': 'uint32', 'bit': '0', 'interleavedDataIDByte': '0', 'startByte': '4', 'id': 'Headstage_Ack2', 'interleavedDataIDBit': '4', 'input': '1'}\n",
      "{'dataType': 'uint32', 'bit': '0', 'interleavedDataIDByte': '0', 'startByte': '6', 'id': 'Headstage_Ack3', 'interleavedDataIDBit': '4', 'input': '1'}\n",
      "{'dataType': 'analog', 'bit': '0', 'interleavedDataIDByte': '0', 'startByte': '2', 'id': 'Controller_Ain1', 'interleavedDataIDBit': '5', 'input': '1'}\n",
      "SysClock\n"
     ]
    }
   ],
   "source": [
    "# walk in xml device and keep only \"analog\" data types\n",
    "# only the Analog ECU data gets processed\n",
    "_mask_channels_bytes = {}\n",
    "for device in hconf:\n",
    "    stream_id = device.attrib['name']\n",
    "    print(stream_id)\n",
    "\n",
    "    for channel in device:\n",
    "        print(channel.attrib)\n",
    "\n",
    "        if 'interleavedDataIDByte' in channel.attrib:\n",
    "            # TODO LATER: deal with \"headstageSensor\" which have interleaved\n",
    "            continue\n",
    "\n",
    "        if channel.attrib['dataType'] == 'analog':\n",
    "\n",
    "            # add to stream_ids, signal_streams, and _mask_channels_bytes\n",
    "            # only if there are channels to read\n",
    "            if stream_id not in stream_ids:\n",
    "                stream_ids.append(stream_id)\n",
    "                stream_name = stream_id\n",
    "                signal_streams.append((stream_name, stream_id))\n",
    "                _mask_channels_bytes[stream_id] = []\n",
    "\n",
    "            name = channel.attrib['id']\n",
    "            chan_id = channel.attrib['id']\n",
    "            dtype = 'int16'\n",
    "            # TODO LATER : handle gain correctly according the file version\n",
    "            units = ''\n",
    "            gain = 1.\n",
    "            offset = 0.\n",
    "\n",
    "            # xml header has, for each ntrode,\n",
    "            # rawScalingToUv, spikeScalingToUv, and lfpScalingToUv\n",
    "            signal_channels.append((name, chan_id, _sampling_rate, 'int16',\n",
    "                                 units, gain, offset, stream_id))\n",
    "\n",
    "            # to handle digital data, need to split the data by bits\n",
    "            num_bytes = stream_bytes[stream_id] + int(channel.attrib['startByte'])\n",
    "            chan_mask = np.zeros(packet_size, dtype='bool')\n",
    "            chan_mask[num_bytes] = True\n",
    "            chan_mask[num_bytes + 1] = True\n",
    "            _mask_channels_bytes[stream_id].append(chan_mask)\n"
   ]
  },
  {
   "cell_type": "code",
   "execution_count": 48,
   "id": "63066f3e-e639-4020-bf62-249c5b631c50",
   "metadata": {},
   "outputs": [],
   "source": [
    "if num_ephy_channels > 0:\n",
    "    stream_id = 'trodes'\n",
    "    stream_name = stream_id\n",
    "    signal_streams.append((stream_name, stream_id))\n",
    "    _mask_channels_bytes[stream_id] = []\n",
    "\n",
    "    chan_ind = 0\n",
    "    for trode in sconf:\n",
    "        for schan in trode:\n",
    "            name = 'trode' + trode.attrib['id'] + 'chan' + schan.attrib['hwChan']\n",
    "            chan_id = schan.attrib['hwChan']\n",
    "            # TODO LATER : handle gain correctly according the file version\n",
    "            units = ''\n",
    "            gain = 1.\n",
    "            offset = 0.\n",
    "            signal_channels.append((name, chan_id, _sampling_rate, 'int16',\n",
    "                                 units, gain, offset, stream_id))\n",
    "\n",
    "            chan_mask = np.zeros(packet_size, dtype='bool')\n",
    "            # use the channel index (0 to N-1, in order) to compute the starting index of the\n",
    "            # two bytes in each packet that corresponds to int16 data for this\n",
    "            # ephys channel. then set the mask for those two bytes to Triue\n",
    "            num_bytes = packet_size - 2 * num_ephy_channels + 2 * chan_ind\n",
    "            chan_mask[num_bytes] = True\n",
    "            chan_mask[num_bytes + 1] = True\n",
    "            _mask_channels_bytes[stream_id].append(chan_mask)\n",
    "\n",
    "            chan_ind += 1\n"
   ]
  },
  {
   "cell_type": "code",
   "execution_count": 50,
   "id": "71fd17ba-7f7e-40ea-93b5-1788da1e2cae",
   "metadata": {},
   "outputs": [],
   "source": [
    "# _mask_channels_bytes is now a dictionary mapping stream name ('ECU', 'trodes') to a list of masks\n",
    "# _mask_channels_bytes"
   ]
  },
  {
   "cell_type": "code",
   "execution_count": 54,
   "id": "8fd69546-35ee-487b-be50-189cceb07108",
   "metadata": {},
   "outputs": [],
   "source": [
    "_signal_stream_dtype = [\n",
    "    ('name', 'U64'),  # not necessarily unique\n",
    "    ('id', 'U64'),  # must be unique\n",
    "]\n",
    "\n",
    "_signal_channel_dtype = [\n",
    "    ('name', 'U64'),  # not necessarily unique\n",
    "    ('id', 'U64'),  # must be unique\n",
    "    ('sampling_rate', 'float64'),\n",
    "    ('dtype', 'U16'),\n",
    "    ('units', 'U64'),\n",
    "    ('gain', 'float64'),\n",
    "    ('offset', 'float64'),\n",
    "    ('stream_id', 'U64'),\n",
    "]"
   ]
  },
  {
   "cell_type": "code",
   "execution_count": 57,
   "id": "71445a52-5f2b-408b-bf02-e61ee2516f52",
   "metadata": {},
   "outputs": [],
   "source": [
    "selected_streams = None"
   ]
  },
  {
   "cell_type": "code",
   "execution_count": 58,
   "id": "53283a3d-e137-466f-b3b7-8ad67c03280d",
   "metadata": {},
   "outputs": [],
   "source": [
    "# make mask as array (used in _get_analogsignal_chunk(...))\n",
    "_mask_streams = {}\n",
    "for stream_id, l in _mask_channels_bytes.items():\n",
    "    mask = np.array(l)\n",
    "    _mask_channels_bytes[stream_id] = mask\n",
    "    _mask_streams[stream_id] = np.any(mask, axis=0)\n",
    "\n",
    "signal_streams = np.array(signal_streams, dtype=_signal_stream_dtype)\n",
    "signal_channels = np.array(signal_channels, dtype=_signal_channel_dtype)\n",
    "\n",
    "# remove some stream if no wanted\n",
    "if selected_streams is not None:\n",
    "    if isinstance(selected_streams, str):\n",
    "        selected_streams = [selected_streams]\n",
    "    assert isinstance(selected_streams, list)\n",
    "\n",
    "    keep = np.in1d(signal_streams['id'], selected_streams)\n",
    "    signal_streams = signal_streams[keep]\n",
    "\n",
    "    keep = np.in1d(signal_channels['stream_id'], selected_streams)\n",
    "    signal_channels = signal_channels[keep]"
   ]
  },
  {
   "cell_type": "code",
   "execution_count": 62,
   "id": "42b0d605-dffe-4000-b1e7-a90a657c009f",
   "metadata": {},
   "outputs": [
    {
     "name": "stdout",
     "output_type": "stream",
     "text": [
      "<class 'numpy.ndarray'>\n",
      "(12, 310)\n"
     ]
    }
   ],
   "source": [
    "print(type(_mask_channels_bytes[\"ECU\"]))\n",
    "print(_mask_channels_bytes[\"ECU\"].shape)"
   ]
  },
  {
   "cell_type": "code",
   "execution_count": 64,
   "id": "464d37ed-4915-49cb-8419-93a81b341aa8",
   "metadata": {},
   "outputs": [
    {
     "name": "stdout",
     "output_type": "stream",
     "text": [
      "<class 'numpy.ndarray'>\n",
      "(310,)\n"
     ]
    },
    {
     "data": {
      "text/plain": [
       "array([False, False, False, False, False, False, False, False, False,\n",
       "       False,  True,  True,  True,  True,  True,  True,  True,  True,\n",
       "        True,  True,  True,  True,  True,  True,  True,  True,  True,\n",
       "        True,  True,  True,  True,  True,  True,  True, False, False,\n",
       "       False, False, False, False, False, False, False, False, False,\n",
       "       False, False, False, False, False, False, False, False, False,\n",
       "       False, False, False, False, False, False, False, False, False,\n",
       "       False, False, False, False, False, False, False, False, False,\n",
       "       False, False, False, False, False, False, False, False, False,\n",
       "       False, False, False, False, False, False, False, False, False,\n",
       "       False, False, False, False, False, False, False, False, False,\n",
       "       False, False, False, False, False, False, False, False, False,\n",
       "       False, False, False, False, False, False, False, False, False,\n",
       "       False, False, False, False, False, False, False, False, False,\n",
       "       False, False, False, False, False, False, False, False, False,\n",
       "       False, False, False, False, False, False, False, False, False,\n",
       "       False, False, False, False, False, False, False, False, False,\n",
       "       False, False, False, False, False, False, False, False, False,\n",
       "       False, False, False, False, False, False, False, False, False,\n",
       "       False, False, False, False, False, False, False, False, False,\n",
       "       False, False, False, False, False, False, False, False, False,\n",
       "       False, False, False, False, False, False, False, False, False,\n",
       "       False, False, False, False, False, False, False, False, False,\n",
       "       False, False, False, False, False, False, False, False, False,\n",
       "       False, False, False, False, False, False, False, False, False,\n",
       "       False, False, False, False, False, False, False, False, False,\n",
       "       False, False, False, False, False, False, False, False, False,\n",
       "       False, False, False, False, False, False, False, False, False,\n",
       "       False, False, False, False, False, False, False, False, False,\n",
       "       False, False, False, False, False, False, False, False, False,\n",
       "       False, False, False, False, False, False, False, False, False,\n",
       "       False, False, False, False, False, False, False, False, False,\n",
       "       False, False, False, False, False, False, False, False, False,\n",
       "       False, False, False, False, False, False, False, False, False,\n",
       "       False, False, False, False])"
      ]
     },
     "execution_count": 64,
     "metadata": {},
     "output_type": "execute_result"
    }
   ],
   "source": [
    "print(type(_mask_streams[\"ECU\"]))\n",
    "print(_mask_streams[\"ECU\"].shape)\n",
    "_mask_streams[\"ECU\"]"
   ]
  },
  {
   "cell_type": "code",
   "execution_count": 65,
   "id": "e5fd0273-d546-4731-acd3-415e1b68ca76",
   "metadata": {},
   "outputs": [
    {
     "data": {
      "text/plain": [
       "{'saveDisplayedChanOnly': '1',\n",
       " 'filePath': '',\n",
       " 'headstageFirmwareVersion': '4.4',\n",
       " 'headstageSmartRefOn': '0',\n",
       " 'headstageGyroSensorOn': '1',\n",
       " 'headstageSerial': '01504 00126',\n",
       " 'headstageAutoSettleOn': '0',\n",
       " 'compileDate': 'May 24 2023',\n",
       " 'trodesVersion': '2.4.0',\n",
       " 'controllerFirmwareVersion': '3.18',\n",
       " 'headstageAccelSensorOn': '1',\n",
       " 'commitHead': 'heads/Release_2.4.0-0-g499429f3',\n",
       " 'controllerSerial': '65535 65535',\n",
       " 'timestampAtCreation': '51493215',\n",
       " 'systemTimeAtCreation': '       1687474797888',\n",
       " 'headstageMagSensorOn': '0',\n",
       " 'filePrefix': '',\n",
       " 'compileTime': '10:59:15',\n",
       " 'qtVersion': '6.2.2',\n",
       " 'realtimeMode': '0'}"
      ]
     },
     "execution_count": 65,
     "metadata": {},
     "output_type": "execute_result"
    }
   ],
   "source": [
    "gconf.attrib"
   ]
  },
  {
   "cell_type": "code",
   "execution_count": 69,
   "id": "e1ce2da4-0750-41a3-a388-8f5e144cac5e",
   "metadata": {},
   "outputs": [],
   "source": [
    "block_index = 0\n",
    "seg_index = 0\n",
    "i_start = 0\n",
    "i_stop = 10\n",
    "stream_index = 0\n",
    "channel_indexes = [0, 1]"
   ]
  },
  {
   "cell_type": "code",
   "execution_count": 71,
   "id": "928a04bc-97f6-4e58-b84a-0d4419de5423",
   "metadata": {},
   "outputs": [
    {
     "data": {
      "text/plain": [
       "(314266, 310)"
      ]
     },
     "execution_count": 71,
     "metadata": {},
     "output_type": "execute_result"
    }
   ],
   "source": [
    "_raw_memmap.shape"
   ]
  },
  {
   "cell_type": "code",
   "execution_count": 73,
   "id": "f47117e2-62cc-4548-b9be-2446ea712106",
   "metadata": {},
   "outputs": [
    {
     "data": {
      "text/plain": [
       "(10, 310)"
      ]
     },
     "execution_count": 73,
     "metadata": {},
     "output_type": "execute_result"
    }
   ],
   "source": [
    "stream_id = header['signal_streams'][stream_index]['id']\n",
    "\n",
    "raw_unit8 = _raw_memmap[i_start:i_stop]  # this should say uint8\n",
    "raw_unit8.shape"
   ]
  },
  {
   "cell_type": "code",
   "execution_count": 80,
   "id": "4aa4afb1-7085-450c-8469-38272b944d14",
   "metadata": {},
   "outputs": [
    {
     "data": {
      "text/plain": [
       "dtype('uint8')"
      ]
     },
     "execution_count": 80,
     "metadata": {},
     "output_type": "execute_result"
    }
   ],
   "source": [
    "_raw_memmap.dtype"
   ]
  },
  {
   "cell_type": "code",
   "execution_count": 75,
   "id": "f5857283-80f4-46a3-a89c-2ecfdd3b51f0",
   "metadata": {},
   "outputs": [
    {
     "data": {
      "text/plain": [
       "array([0, 1, 2, 3, 4])"
      ]
     },
     "execution_count": 75,
     "metadata": {},
     "output_type": "execute_result"
    }
   ],
   "source": [
    "np.arange(num_chan)[slice(0, 5)]"
   ]
  },
  {
   "cell_type": "code",
   "execution_count": null,
   "id": "e34e42f6-a1ce-4bdf-b922-7d41ec79fe82",
   "metadata": {},
   "outputs": [],
   "source": [
    "num_chan = len(_mask_channels_bytes[stream_id])\n",
    "re_order = None\n",
    "if channel_indexes is None:\n",
    "    # no loop : entire stream mask\n",
    "    stream_mask = _mask_streams[stream_id]\n",
    "else:\n",
    "    # accumulate mask\n",
    "    if isinstance(channel_indexes, slice):\n",
    "        chan_inds = np.arange(num_chan)[channel_indexes]  # this seems redundant...\n",
    "    else:\n",
    "        chan_inds = channel_indexes\n",
    "\n",
    "        if np.any(np.diff(channel_indexes) < 0):\n",
    "            # handle channel are not ordered\n",
    "            sorted_channel_indexes = np.sort(channel_indexes)\n",
    "            re_order = np.array([list(sorted_channel_indexes).index(ch)\n",
    "                                 for ch in channel_indexes])\n",
    "\n",
    "    stream_mask = np.zeros(raw_unit8.shape[1], dtype='bool')\n",
    "    for chan_ind in chan_inds:\n",
    "        chan_mask = _mask_channels_bytes[stream_id][chan_ind]\n",
    "        stream_mask |= chan_mask\n",
    "\n",
    "# this copies the data from the memmap into memory\n",
    "raw_unit8_mask = raw_unit8[:, stream_mask]\n",
    "\n",
    "# the data are int16\n",
    "shape = raw_unit8_mask.shape\n",
    "shape = (shape[0], shape[1] // 2)\n",
    "# reshape the and retype by view\n",
    "raw_unit16 = raw_unit8_mask.flatten().view('int16').reshape(shape)  # this should be int16\n",
    "\n",
    "if re_order is not None:\n",
    "    raw_unit16 = raw_unit16[:, re_order]"
   ]
  },
  {
   "cell_type": "code",
   "execution_count": 79,
   "id": "7d0c1ee1-27ab-4249-b902-983e449ee6e9",
   "metadata": {},
   "outputs": [
    {
     "data": {
      "text/plain": [
       "(10, 4)"
      ]
     },
     "execution_count": 79,
     "metadata": {},
     "output_type": "execute_result"
    }
   ],
   "source": [
    "raw_unit8_mask.shape"
   ]
  },
  {
   "cell_type": "code",
   "execution_count": 81,
   "id": "72b639f4-a549-4db9-a5ef-16e32cfcb75d",
   "metadata": {},
   "outputs": [
    {
     "data": {
      "text/plain": [
       "(10, 2)"
      ]
     },
     "execution_count": 81,
     "metadata": {},
     "output_type": "execute_result"
    }
   ],
   "source": [
    "shape"
   ]
  },
  {
   "cell_type": "code",
   "execution_count": 83,
   "id": "80590ca9-3ae6-4a9d-b6bd-734a080a05ab",
   "metadata": {},
   "outputs": [
    {
     "data": {
      "text/plain": [
       "(10, 2)"
      ]
     },
     "execution_count": 83,
     "metadata": {},
     "output_type": "execute_result"
    }
   ],
   "source": [
    "raw_unit16.shape"
   ]
  },
  {
   "cell_type": "code",
   "execution_count": 86,
   "id": "ef9c03e4-c6e3-499e-a28a-a48d1030b759",
   "metadata": {},
   "outputs": [
    {
     "data": {
      "text/plain": [
       "array([[ 13, 223,   5, 222],\n",
       "       [  5, 223,   5, 222],\n",
       "       [ 13, 223,   5, 222],\n",
       "       [ 13, 223, 253, 221],\n",
       "       [  5, 223,   5, 222],\n",
       "       [253, 222, 253, 221],\n",
       "       [ 13, 223,   5, 222],\n",
       "       [ 13, 223, 253, 221],\n",
       "       [  5, 223,   5, 222],\n",
       "       [ 13, 223,   5, 222]], dtype=uint8)"
      ]
     },
     "execution_count": 86,
     "metadata": {},
     "output_type": "execute_result"
    }
   ],
   "source": [
    "raw_unit8_mask"
   ]
  },
  {
   "cell_type": "code",
   "execution_count": 87,
   "id": "f6c65951-015f-4256-acc5-5e742703f89e",
   "metadata": {},
   "outputs": [
    {
     "data": {
      "text/plain": [
       "array([[-8435, -8699],\n",
       "       [-8443, -8699],\n",
       "       [-8435, -8699],\n",
       "       [-8435, -8707],\n",
       "       [-8443, -8699],\n",
       "       [-8451, -8707],\n",
       "       [-8435, -8699],\n",
       "       [-8435, -8707],\n",
       "       [-8443, -8699],\n",
       "       [-8435, -8699]], dtype=int16)"
      ]
     },
     "execution_count": 87,
     "metadata": {},
     "output_type": "execute_result"
    }
   ],
   "source": [
    "raw_unit16"
   ]
  },
  {
   "cell_type": "code",
   "execution_count": null,
   "id": "1d6ca9ff-15a6-4a41-b56b-d3fd859eaf78",
   "metadata": {},
   "outputs": [],
   "source": []
  }
 ],
 "metadata": {
  "kernelspec": {
   "display_name": "Python 3 (ipykernel)",
   "language": "python",
   "name": "python3"
  },
  "language_info": {
   "codemirror_mode": {
    "name": "ipython",
    "version": 3
   },
   "file_extension": ".py",
   "mimetype": "text/x-python",
   "name": "python",
   "nbconvert_exporter": "python",
   "pygments_lexer": "ipython3",
   "version": "3.10.12"
  }
 },
 "nbformat": 4,
 "nbformat_minor": 5
}
