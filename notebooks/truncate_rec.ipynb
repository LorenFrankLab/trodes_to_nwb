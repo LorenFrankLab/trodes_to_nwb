{
 "cells": [
  {
   "cell_type": "code",
   "execution_count": 2,
   "metadata": {},
   "outputs": [],
   "source": [
    "from pathlib import Path"
   ]
  },
  {
   "cell_type": "code",
   "execution_count": 36,
   "metadata": {},
   "outputs": [],
   "source": [
    "recfile = \"../src/trodes_to_nwb/tests/test_data/20230622_sample_01_a1.rec\"\n",
    "\n",
    "new_recfile = Path('/stelmo/sam/truncated_rec_files/') / Path(recfile.split('/')[-1])\n",
    "header_size = None\n",
    "with open(recfile, mode=\"rb\") as f, open(new_recfile, mode=\"wb\") as f2:\n",
    "    for _i in range(1000):\n",
    "        line = f.readline()\n",
    "        f2.write(line)\n",
    "\n",
    "\n"
   ]
  },
  {
   "attachments": {},
   "cell_type": "markdown",
   "metadata": {},
   "source": [
    "### Test can add ephys with new rec file"
   ]
  },
  {
   "cell_type": "code",
   "execution_count": 22,
   "metadata": {},
   "outputs": [
    {
     "name": "stderr",
     "output_type": "stream",
     "text": [
      "/home/sambray/mambaforge-pypy3/envs/trodes_to_nwb/lib/python3.11/site-packages/pynwb/file.py:470: UserWarning: Date is missing timezone information. Updating to local timezone.\n",
      "  args_to_set['session_start_time'] = _add_missing_timezone(session_start_time)\n"
     ]
    }
   ],
   "source": [
    "import os\n",
    "\n",
    "from trodes_to_nwb import convert_rec_header, convert_yaml\n",
    "from trodes_to_nwb.convert_ephys import add_raw_ephys\n",
    "from trodes_to_nwb.tests.test_convert_rec_header import default_test_xml_tree\n",
    "\n",
    "MICROVOLTS_PER_VOLT = 1e6\n",
    "\n",
    "\n",
    "path = \"/home/sambray/Documents/trodes_to_nwb/src/trodes_to_nwb/tests\"\n",
    "metadata_path = path + \"/test_data/20230622_sample_metadata.yml\"\n",
    "probe_metadata = [\n",
    "    path + \"/test_data/tetrode_12.5.yml\",\n",
    "]\n",
    "metadata, probe_metadata = convert_yaml.load_metadata(metadata_path, probe_metadata)\n",
    "nwbfile = convert_yaml.initialize_nwb(metadata, default_test_xml_tree())\n",
    "\n",
    "# create the hw_channel map using the reconfig header\n",
    "try:\n",
    "    # running on github\n",
    "    trodesconf_file = (\n",
    "        os.environ.get(\"DOWNLOAD_DIR\") + \"/20230622_sample_01_a1.rec\"\n",
    "    )  # \"/test_data/reconfig_probeDevice.trodesconf\"\n",
    "    rec_header = convert_rec_header.read_header(trodesconf_file)\n",
    "except:\n",
    "    # running locally\n",
    "    trodesconf_file = (\n",
    "        path + \"/test_data/20230622_sample_01_a1.rec\"\n",
    "    )  # \"/test_data/reconfig_probeDevice.trodesconf\"\n",
    "    rec_header = convert_rec_header.read_header(trodesconf_file)\n",
    "\n",
    "hw_channel_map = convert_rec_header.make_hw_channel_map(\n",
    "    metadata, rec_header.find(\"SpikeConfiguration\")\n",
    ")\n",
    "ref_electrode_map = convert_rec_header.make_ref_electrode_map(\n",
    "    metadata, rec_header.find(\"SpikeConfiguration\")\n",
    ")\n",
    "\n",
    "convert_yaml.add_electrode_groups(\n",
    "    nwbfile, metadata, probe_metadata, hw_channel_map, ref_electrode_map\n",
    ")\n",
    "\n",
    "try:\n",
    "    # running on github\n",
    "    recfile = os.environ.get(\"DOWNLOAD_DIR\") + \"/20230622_sample_01_a1.rec\"\n",
    "    rec_to_nwb_file = os.environ.get(\"DOWNLOAD_DIR\") + \"/20230622_155936.nwb\"\n",
    "except (TypeError, FileNotFoundError):\n",
    "    # running locally\n",
    "    recfile = path + \"/test_data/20230622_sample_01_a1.truncated.rec\"\n",
    "    rec_to_nwb_file = path + \"/test_data/20230622_155936.nwb\"\n",
    "\n",
    "map_row_ephys_data_to_row_electrodes_table = list(range(len(nwbfile.electrodes)))\n",
    "\n",
    "add_raw_ephys(\n",
    "    nwbfile,\n",
    "    [\n",
    "        recfile,\n",
    "    ],\n",
    "    map_row_ephys_data_to_row_electrodes_table,\n",
    ")"
   ]
  }
 ],
 "metadata": {
  "kernelspec": {
   "display_name": "trodes_to_nwb",
   "language": "python",
   "name": "python3"
  },
  "language_info": {
   "codemirror_mode": {
    "name": "ipython",
    "version": 3
   },
   "file_extension": ".py",
   "mimetype": "text/x-python",
   "name": "python",
   "nbconvert_exporter": "python",
   "pygments_lexer": "ipython3",
   "version": "3.11.3"
  },
  "orig_nbformat": 4
 },
 "nbformat": 4,
 "nbformat_minor": 2
}